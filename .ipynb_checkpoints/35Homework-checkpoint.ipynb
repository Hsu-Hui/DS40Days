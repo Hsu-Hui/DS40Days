{
 "cells": [
  {
   "cell_type": "markdown",
   "metadata": {},
   "source": [
    "## 作業:\n",
    "今天課程中以一個案例，說明資料分析的流程與探索性分析，是否對於課程中一開始的問題，更有想法了?!    \n",
    "Q1: 哪一個問題不適合用資料科學解決?   \n",
    "Q2: 以你的角度來分析，為什麼這樣的問題，較不適合用資料來解決?    \n",
    "將答案寫在論壇中，大家一起互相討論激盪。   \n",
    "![](作業圖檔.PNG)"
   ]
  },
  {
   "cell_type": "code",
   "execution_count": null,
   "metadata": {},
   "outputs": [],
   "source": [
    "#挑選 Mr./Ms. Right\n",
    "#顧客下次會買哪些東西？\n",
    "#半導體的良率預測？"
   ]
  },
  {
   "cell_type": "code",
   "execution_count": 1,
   "metadata": {},
   "outputs": [
    {
     "data": {
      "text/plain": [
       "'\\n你的答案\\n'"
      ]
     },
     "execution_count": 1,
     "metadata": {},
     "output_type": "execute_result"
    }
   ],
   "source": [
    "#Q1:\n",
    "#基本上都能用資料科學來獲取供參考的數據，依據情況用不同的特徵因素，\n",
    "#挑選 Mr./Ms. Right可以用興趣、收入、工作...等等，\n",
    "#顧客下次會買哪些東西可以用顧客此次買的商品類型、價格...等等，\n",
    "#半導體的良率預測就是一個簡單的二元分類，可以用影像辨識搭配屬性資料去分類。\n"
   ]
  },
  {
   "cell_type": "code",
   "execution_count": null,
   "metadata": {},
   "outputs": [],
   "source": [
    "#其中挑選 Mr./Ms. Right因為牽涉到的變量過於複雜，且人心難測，\n",
    "#這一分鐘跟下一分鐘可能就有變化，所以正確率所維持的時間也很短暫。"
   ]
  }
 ],
 "metadata": {
  "colab": {
   "name": "Day33.YOLO 細節理解 - 網路輸出的後處理_HW.ipynb",
   "provenance": []
  },
  "kernelspec": {
   "display_name": "Python 3",
   "language": "python",
   "name": "python3"
  },
  "language_info": {
   "codemirror_mode": {
    "name": "ipython",
    "version": 3
   },
   "file_extension": ".py",
   "mimetype": "text/x-python",
   "name": "python",
   "nbconvert_exporter": "python",
   "pygments_lexer": "ipython3",
   "version": "3.8.5"
  }
 },
 "nbformat": 4,
 "nbformat_minor": 1
}
